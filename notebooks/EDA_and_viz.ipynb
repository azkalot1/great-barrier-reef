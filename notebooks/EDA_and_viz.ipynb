{
 "cells": [
  {
   "cell_type": "code",
   "execution_count": null,
   "id": "3446611b-f604-4b04-831a-5d1b849f2bdc",
   "metadata": {
    "tags": []
   },
   "outputs": [],
   "source": []
  },
  {
   "cell_type": "code",
   "execution_count": null,
   "id": "49e11ffb-b5a6-452f-980f-b992ad0444fb",
   "metadata": {},
   "outputs": [],
   "source": [
    "%load_ext autoreload\n",
    "%autoreload 2"
   ]
  },
  {
   "cell_type": "code",
   "execution_count": 2,
   "id": "5b553167-e20a-4c00-b093-361d63ca4fb2",
   "metadata": {
    "execution": {
     "iopub.execute_input": "2021-12-19T22:57:47.955302Z",
     "iopub.status.busy": "2021-12-19T22:57:47.955055Z",
     "iopub.status.idle": "2021-12-19T22:57:47.962582Z",
     "shell.execute_reply": "2021-12-19T22:57:47.961695Z",
     "shell.execute_reply.started": "2021-12-19T22:57:47.955274Z"
    },
    "tags": []
   },
   "outputs": [
    {
     "ename": "ModuleNotFoundError",
     "evalue": "No module named 'great_barrier_reef'",
     "output_type": "error",
     "traceback": [
      "\u001b[0;31m---------------------------------------------------------------------------\u001b[0m",
      "\u001b[0;31mModuleNotFoundError\u001b[0m                       Traceback (most recent call last)",
      "\u001b[0;32m<ipython-input-2-933fee9383c2>\u001b[0m in \u001b[0;36m<module>\u001b[0;34m\u001b[0m\n\u001b[0;32m----> 1\u001b[0;31m \u001b[0;32mfrom\u001b[0m \u001b[0mgreat_barrier_reef\u001b[0m \u001b[0;32mimport\u001b[0m \u001b[0mStarfishDatasetAdaptor\u001b[0m\u001b[0;34m\u001b[0m\u001b[0;34m\u001b[0m\u001b[0m\n\u001b[0m",
      "\u001b[0;31mModuleNotFoundError\u001b[0m: No module named 'great_barrier_reef'"
     ]
    }
   ],
   "source": [
    "from great_barrier_reef import StarfishDatasetAdaptor"
   ]
  },
  {
   "cell_type": "code",
   "execution_count": null,
   "id": "f04cdd39-df70-406a-9c66-d3b151d7efb6",
   "metadata": {},
   "outputs": [],
   "source": [
    "import matplotlib.pyplot as plt\n",
    "from matplotlib import patches\n",
    "\n",
    "def get_rectangle_edges_from_pascal_bbox(bbox):\n",
    "    xmin_top_left, ymin_top_left, xmax_bottom_right, ymax_bottom_right = bbox\n",
    "\n",
    "    bottom_left = (xmin_top_left, ymax_bottom_right)\n",
    "    width = xmax_bottom_right - xmin_top_left\n",
    "    height = ymin_top_left - ymax_bottom_right\n",
    "\n",
    "    return bottom_left, width, height\n",
    "\n",
    "def draw_pascal_voc_bboxes(\n",
    "    plot_ax,\n",
    "    bboxes,\n",
    "    get_rectangle_corners_fn=get_rectangle_edges_from_pascal_bbox,\n",
    "):\n",
    "    for bbox in bboxes:\n",
    "        bottom_left, width, height = get_rectangle_corners_fn(bbox)\n",
    "\n",
    "        rect_1 = patches.Rectangle(\n",
    "            bottom_left,\n",
    "            width,\n",
    "            height,\n",
    "            linewidth=4,\n",
    "            edgecolor=\"black\",\n",
    "            fill=False,\n",
    "        )\n",
    "        rect_2 = patches.Rectangle(\n",
    "            bottom_left,\n",
    "            width,\n",
    "            height,\n",
    "            linewidth=2,\n",
    "            edgecolor=\"white\",\n",
    "            fill=False,\n",
    "        )\n",
    "\n",
    "        # Add the patch to the Axes\n",
    "        plot_ax.add_patch(rect_1)\n",
    "        plot_ax.add_patch(rect_2)\n",
    "\n",
    "def show_image(\n",
    "    image, bboxes=None, draw_bboxes_fn=draw_pascal_voc_bboxes, figsize=(10, 10)\n",
    "):\n",
    "    fig, ax = plt.subplots(1, figsize=figsize)\n",
    "    ax.imshow(image)\n",
    "\n",
    "    if bboxes is not None:\n",
    "        draw_bboxes_fn(ax, bboxes)\n",
    "\n",
    "    plt.show()"
   ]
  },
  {
   "cell_type": "code",
   "execution_count": null,
   "id": "3c28d7b9-0ba9-4482-82fd-4f8fd68de5b9",
   "metadata": {},
   "outputs": [],
   "source": [
    "from pathlib import Path\n",
    "\n",
    "dataset_path = Path('../data/train_images/')\n",
    "list(dataset_path.iterdir())"
   ]
  },
  {
   "cell_type": "code",
   "execution_count": null,
   "id": "1c0cd89d-20e5-4f25-b9e3-927b52c0a942",
   "metadata": {
    "tags": []
   },
   "outputs": [],
   "source": [
    "data_df = pd.read_csv('../data/train.csv')"
   ]
  },
  {
   "cell_type": "code",
   "execution_count": null,
   "id": "43e8f4c0-bc44-4e7a-b398-2ae408d771b8",
   "metadata": {
    "tags": []
   },
   "outputs": [],
   "source": [
    "data_df['annotations'] = data_df['annotations'].apply(literal_eval)"
   ]
  },
  {
   "cell_type": "code",
   "execution_count": null,
   "id": "4779355d-94d2-41b1-9718-951133ff0f5b",
   "metadata": {
    "tags": []
   },
   "outputs": [],
   "source": [
    "def convert_string_annotation_to_json(annotation: str):\n",
    "    pass"
   ]
  },
  {
   "cell_type": "code",
   "execution_count": null,
   "id": "615ba1f0-2418-42e1-8efd-e64378cb1622",
   "metadata": {
    "tags": []
   },
   "outputs": [],
   "source": [
    "from ast import literal_eval"
   ]
  },
  {
   "cell_type": "code",
   "execution_count": null,
   "id": "f951ad96-6a07-449d-9f4f-1407743c0a44",
   "metadata": {},
   "outputs": [],
   "source": [
    "literal_eval(data_df.loc[data_df['annotations']!='[]', 'annotations'].values[0])"
   ]
  },
  {
   "cell_type": "code",
   "execution_count": null,
   "id": "077fcd86-28cf-45e4-ba7d-98080365f7d3",
   "metadata": {},
   "outputs": [],
   "source": [
    "data_df['annotations'][0]"
   ]
  },
  {
   "cell_type": "code",
   "execution_count": null,
   "id": "39c8043c-b528-4717-b7dd-803c5e85e784",
   "metadata": {
    "tags": []
   },
   "outputs": [],
   "source": [
    "import PIL"
   ]
  },
  {
   "cell_type": "code",
   "execution_count": null,
   "id": "ff913382-983f-4544-a066-2999d51e037a",
   "metadata": {
    "tags": []
   },
   "outputs": [],
   "source": [
    "image_name = 'video_'+str(data_df['video_id'].values[0])+'/'+str(data_df['video_frame'].values[0])+'.jpg'\n",
    "images_dir_path = Path('../data/train_images/')"
   ]
  },
  {
   "cell_type": "code",
   "execution_count": null,
   "id": "b09725ae-5781-4f53-b563-7e4c0587091f",
   "metadata": {
    "tags": []
   },
   "outputs": [],
   "source": [
    "type(data_df.apply(lambda x: 'video_{}/{}.jpg'.format(x['video_id'], x['video_frame']), axis=1).values)"
   ]
  },
  {
   "cell_type": "code",
   "execution_count": null,
   "id": "ad92e342-3dbc-4675-a351-b0ac96727faf",
   "metadata": {
    "tags": []
   },
   "outputs": [],
   "source": [
    "image = PIL.Image.open(images_dir_path / image_name)"
   ]
  },
  {
   "cell_type": "code",
   "execution_count": null,
   "id": "a7f3d047-a96f-4976-8227-bff85f122be0",
   "metadata": {
    "tags": []
   },
   "outputs": [],
   "source": [
    "from torch.utils.data import Dataset\n",
    "\n",
    "\n",
    "\n",
    "    \n",
    "    \n",
    "class CorallDatasetAdaptor(Dataset):\n",
    "    def __init__(\n",
    "        self, \n",
    "        annotations_dataframe: pd.DataFrame,\n",
    "        images_dir_path: str = '../data/train_images/', \n",
    "            ):\n",
    "        self.images_dir_path = Path(images_dir_path)\n",
    "        self.annotations_df = annotations_dataframe\n",
    "        self.image_paths = self.prepare_image_paths()\n",
    "        \n",
    "    def prepare_image_paths(self):\n",
    "        image_paths = self.annotations_df.apply(\n",
    "            lambda x: 'video_{}/{}.jpg'.format(x['video_id'], x['video_frame']), \n",
    "            axis=1\n",
    "        )\n",
    "        return image_paths\n",
    "        \n",
    "    def __len__(self) -> int:\n",
    "        return len(self.image_paths)\n",
    "    \n",
    "    def get_image_and_labels_by_idx(self, index):\n",
    "        image_name = self.image_paths[index]\n",
    "        image = PIL.Image.open(self.images_dir_path / image_name)\n",
    "\n",
    "        return image, image_name\n",
    "    \n",
    "    def show_image(self, index):\n",
    "        image, image_name = self.get_image_and_labels_by_idx(index)\n",
    "        print(f\"image_name: {image_name}\")\n",
    "        self._show_image(image)\n",
    "        \n",
    "    def _show_image(self, image, figsize=(10, 10)):\n",
    "        fig, ax = plt.subplots(1, figsize=figsize)\n",
    "        ax.imshow(image)\n",
    "\n",
    "        plt.show()"
   ]
  },
  {
   "cell_type": "code",
   "execution_count": null,
   "id": "860f8b12-0bc8-4fcb-a02a-aafe526df37e",
   "metadata": {
    "tags": []
   },
   "outputs": [],
   "source": [
    "dataset = CorallDatasetAdaptor(data_df)"
   ]
  },
  {
   "cell_type": "code",
   "execution_count": null,
   "id": "fc751eec-8ff4-48c7-a378-31a23eb5c4f5",
   "metadata": {
    "tags": []
   },
   "outputs": [],
   "source": [
    "dataset.show_image(0)"
   ]
  },
  {
   "cell_type": "code",
   "execution_count": null,
   "id": "ef91358b-eb0e-45fb-8a06-69a2f21ee506",
   "metadata": {
    "tags": []
   },
   "outputs": [],
   "source": [
    "len(dataset)"
   ]
  },
  {
   "cell_type": "code",
   "execution_count": null,
   "id": "ee9e428f-56b4-46dc-9d53-bc70f67b0e4b",
   "metadata": {},
   "outputs": [],
   "source": []
  }
 ],
 "metadata": {
  "kernelspec": {
   "display_name": "Python 3",
   "language": "python",
   "name": "python3"
  },
  "language_info": {
   "codemirror_mode": {
    "name": "ipython",
    "version": 3
   },
   "file_extension": ".py",
   "mimetype": "text/x-python",
   "name": "python",
   "nbconvert_exporter": "python",
   "pygments_lexer": "ipython3",
   "version": "3.8.10"
  },
  "uuid": "f6f038b1-dfaf-455c-bf3a-57dc5b6b9118"
 },
 "nbformat": 4,
 "nbformat_minor": 5
}
