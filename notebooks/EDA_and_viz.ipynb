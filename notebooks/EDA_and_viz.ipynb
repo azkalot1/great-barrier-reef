{
 "cells": [
  {
   "cell_type": "code",
   "execution_count": null,
   "id": "3446611b-f604-4b04-831a-5d1b849f2bdc",
   "metadata": {
    "tags": []
   },
   "outputs": [],
   "source": [
    "%load_ext autoreload\n",
    "%autoreload 2"
   ]
  },
  {
   "cell_type": "code",
   "execution_count": null,
   "id": "c117271c-43b2-473d-a6a9-b36655d86fc2",
   "metadata": {},
   "outputs": [],
   "source": [
    "NEPTUNE_API_TOKEN='eyJhcGlfYWRkcmVzcyI6Imh0dHBzOi8vYXBwLm5lcHR1bmUuYWkiLCJhcGlfdXJsIjoiaHR0cHM6Ly9hcHAubmVwdHVuZS5haSIsImFwaV9rZXkiOiI2Yjg5NjBiZC02ZWJjLTQ2MWYtOWEzZi0wNDdiM2ZjMjdjNjMifQ=='"
   ]
  },
  {
   "cell_type": "code",
   "execution_count": null,
   "id": "5b553167-e20a-4c00-b093-361d63ca4fb2",
   "metadata": {
    "tags": []
   },
   "outputs": [],
   "source": [
    "from great_barrier_reef import (\n",
    "    StarfishDataset, StarfishDatasetAdapter, \n",
    "    StarfishDataModule, StarfishEfficientDetModel,\n",
    "    get_train_transforms, get_valid_transforms, \n",
    "    compare_bboxes_for_image\n",
    ")\n",
    "import pandas as pd\n",
    "from pytorch_lightning import Trainer\n",
    "from pytorch_lightning.callbacks import EarlyStopping, ModelCheckpoint\n",
    "from pytorch_lightning.loggers import CSVLogger, NeptuneLogger\n",
    "from great_barrier_reef.dataset.starfish_dataset import draw_pascal_voc_bboxes\n",
    "from pytorch_lightning.utilities.seed import seed_everything\n",
    "import matplotlib.pyplot as plt\n",
    "import os"
   ]
  },
  {
   "cell_type": "code",
   "execution_count": null,
   "id": "d890fe73-3248-4453-aed2-8ab0f8b9d616",
   "metadata": {},
   "outputs": [],
   "source": [
    "os.environ[\"CUDA_DEVICE_ORDER\"]=\"PCI_BUS_ID\"\n",
    "os.environ[\"CUDA_VISIBLE_DEVICES\"]=\"0\""
   ]
  },
  {
   "cell_type": "code",
   "execution_count": null,
   "id": "1c0cd89d-20e5-4f25-b9e3-927b52c0a942",
   "metadata": {
    "tags": []
   },
   "outputs": [],
   "source": [
    "data_df = pd.read_csv('../data/train.csv')"
   ]
  },
  {
   "cell_type": "code",
   "execution_count": null,
   "id": "fb0771e1-94e7-4bc3-94fd-9b01750e2768",
   "metadata": {
    "tags": []
   },
   "outputs": [],
   "source": [
    "non_empty_df = data_df.loc[data_df['annotations']!='[]', :]\n",
    "train_df = non_empty_df.loc[non_empty_df['video_id']!=2, :]\n",
    "val_df = non_empty_df.loc[non_empty_df['video_id']==2, :]"
   ]
  },
  {
   "cell_type": "code",
   "execution_count": null,
   "id": "cbe27632-6478-44ea-80b8-3fe2afc138ae",
   "metadata": {
    "tags": []
   },
   "outputs": [],
   "source": [
    "adapter_dataset_train = StarfishDatasetAdapter(train_df)\n",
    "adapter_dataset_val = StarfishDatasetAdapter(val_df)"
   ]
  },
  {
   "cell_type": "code",
   "execution_count": null,
   "id": "2ae3cd44-2852-4bde-aeb3-5fe20f8afd1d",
   "metadata": {
    "tags": []
   },
   "outputs": [],
   "source": [
    "adapter_dataset_train.show_image(920)"
   ]
  },
  {
   "cell_type": "code",
   "execution_count": null,
   "id": "0604f59b-f3ec-4063-9daa-488a1417681c",
   "metadata": {
    "tags": []
   },
   "outputs": [],
   "source": [
    "adapter_dataset_val.show_image(0)"
   ]
  },
  {
   "cell_type": "code",
   "execution_count": null,
   "id": "8167a9df-95b2-44cd-a96d-160277e53f27",
   "metadata": {
    "tags": []
   },
   "outputs": [],
   "source": [
    "datamodule = StarfishDataModule(\n",
    "    adapter_dataset_train,\n",
    "    adapter_dataset_val,\n",
    "    train_transforms=get_train_transforms_pad(target_img_size=1280),\n",
    "    valid_transforms=get_valid_transforms_pad(target_img_size=1280),    \n",
    "    num_workers=8,\n",
    "    batch_size=4\n",
    ")"
   ]
  },
  {
   "cell_type": "code",
   "execution_count": null,
   "id": "39cff516-5317-4505-b475-4d61b266687b",
   "metadata": {
    "scrolled": true,
    "tags": []
   },
   "outputs": [],
   "source": [
    "model = StarfishEfficientDetModel(\n",
    "    num_classes=1,\n",
    "    img_size=1280,\n",
    "    inference_transforms=get_valid_transforms_pad(1280),\n",
    "    model_architecture='tf_efficientdet_d1_ap'\n",
    "    )\n",
    "callbacks = [EarlyStopping(monitor='valid_loss_epoch', patience=15),\n",
    "             ModelCheckpoint(verbose=True, monitor='valid_loss_epoch')\n",
    "            ]\n",
    "loggers = [\n",
    "    CSVLogger(\n",
    "        save_dir='csv_logs', \n",
    "        name=f'd1_all_non_empty'), \n",
    "    NeptuneLogger(\n",
    "        api_key=NEPTUNE_API_TOKEN,\n",
    "        project_name=\"azkalot1/reef\",\n",
    "        experiment_name=f'd1_all_non_empty')\n",
    "]\n",
    "trainer = Trainer(\n",
    "    callbacks=callbacks,\n",
    "    logger=loggers,\n",
    "    gpus=[0],\n",
    "    max_epochs=100, \n",
    "    num_sanity_val_steps=1, \n",
    "    precision=16, \n",
    "    )\n",
    "trainer.fit(model, datamodule)"
   ]
  },
  {
   "cell_type": "code",
   "execution_count": null,
   "id": "d2453885-47ac-4983-b0a6-f488e12c78e3",
   "metadata": {
    "scrolled": true,
    "tags": []
   },
   "outputs": [],
   "source": [
    "model.eval()"
   ]
  },
  {
   "cell_type": "code",
   "execution_count": null,
   "id": "840b78c4-1209-46a6-94c6-939819d4f272",
   "metadata": {
    "tags": []
   },
   "outputs": [],
   "source": [
    "image1, truth_bboxes1, _, _, _ = datamodule.val_dataset().ds.get_image_and_labels_by_idx(327)\n",
    "image2, truth_bboxes2, _, _, _ = datamodule.val_dataset().ds.get_image_and_labels_by_idx(328)\n",
    "images = [image1, image2]\n",
    "predicted_bboxes, predicted_class_confidences, predicted_class_labels = model.predict(images)"
   ]
  },
  {
   "cell_type": "code",
   "execution_count": null,
   "id": "656a7b7f-b22e-4ed7-9d23-724a80592805",
   "metadata": {},
   "outputs": [],
   "source": [
    "predicted_bboxes"
   ]
  },
  {
   "cell_type": "code",
   "execution_count": null,
   "id": "5a6e8ab3-50c9-46ac-9f34-061846f8a07e",
   "metadata": {
    "tags": []
   },
   "outputs": [],
   "source": [
    "compare_bboxes_for_image(image2, predicted_bboxes=predicted_bboxes[1], actual_bboxes=truth_bboxes2)"
   ]
  },
  {
   "cell_type": "code",
   "execution_count": null,
   "id": "d66062e2-e09e-4237-b021-8a40ac53f600",
   "metadata": {
    "tags": []
   },
   "outputs": [],
   "source": [
    "compare_bboxes_for_image(image1, predicted_bboxes=predicted_bboxes[0], actual_bboxes=truth_bboxes1)"
   ]
  },
  {
   "cell_type": "code",
   "execution_count": null,
   "id": "5cdecdbf-318d-4482-ba81-ab08c8fdb611",
   "metadata": {
    "tags": []
   },
   "outputs": [],
   "source": [
    "model.img_size"
   ]
  },
  {
   "cell_type": "code",
   "execution_count": null,
   "id": "677ab1a2-b50d-40da-806a-f28905c30516",
   "metadata": {},
   "outputs": [],
   "source": []
  }
 ],
 "metadata": {
  "kernelspec": {
   "display_name": "Python 3",
   "language": "python",
   "name": "python3"
  },
  "language_info": {
   "codemirror_mode": {
    "name": "ipython",
    "version": 3
   },
   "file_extension": ".py",
   "mimetype": "text/x-python",
   "name": "python",
   "nbconvert_exporter": "python",
   "pygments_lexer": "ipython3",
   "version": "3.8.10"
  },
  "uuid": "f6f038b1-dfaf-455c-bf3a-57dc5b6b9118"
 },
 "nbformat": 4,
 "nbformat_minor": 5
}
